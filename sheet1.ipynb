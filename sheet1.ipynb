{
 "cells": [
  {
   "cell_type": "code",
   "execution_count": null,
   "id": "sublime-credits",
   "metadata": {
    "papermill": {
     "duration": 0.041878,
     "end_time": "2021-04-19T11:15:53.663952",
     "exception": false,
     "start_time": "2021-04-19T11:15:53.622074",
     "status": "completed"
    },
    "tags": []
   },
   "outputs": [],
   "source": []
  },
  {
   "cell_type": "code",
   "execution_count": 3,
   "id": "original-exhibition",
   "metadata": {
    "deletable": false,
    "editable": false,
    "execution": {
     "iopub.execute_input": "2021-04-19T11:15:53.747114Z",
     "iopub.status.busy": "2021-04-19T11:15:53.745849Z",
     "iopub.status.idle": "2021-04-19T11:15:53.765891Z",
     "shell.execute_reply": "2021-04-19T11:15:53.766477Z"
    },
    "nbgrader": {
     "cell_type": "code",
     "checksum": "ceab7df278e53ab5f4b793057774a901",
     "grade": true,
     "grade_id": "cell-e5951c7ec892701b",
     "locked": true,
     "points": 0,
     "schema_version": 3,
     "solution": false,
     "task": false
    },
    "papermill": {
     "duration": 0.062709,
     "end_time": "2021-04-19T11:15:53.766768",
     "exception": false,
     "start_time": "2021-04-19T11:15:53.704059",
     "status": "completed"
    },
    "tags": []
   },
   "outputs": [],
   "source": [
    "# This cell is for grading. DO NOT remove it\n",
    "\n",
    "# Use unittest asserts\n",
    "import unittest; t = unittest.TestCase()\n",
    "from pprint import pprint\n",
    "\n",
    "# Helper assert function\n",
    "def assert_percentage(val):\n",
    "    t.assertGreaterEqual(val, 0.0, f'Percentage ({val}) cannot be < 0')\n",
    "    t.assertLessEqual(val, 1.0, f'Percentage ({val}) cannot be > 1')\n",
    "    "
   ]
  },
  {
   "cell_type": "markdown",
   "id": "precious-discipline",
   "metadata": {
    "deletable": false,
    "editable": false,
    "nbgrader": {
     "cell_type": "markdown",
     "checksum": "6e924a8efe0e69f06915151283945546",
     "grade": false,
     "grade_id": "cell-b2b789b02a0b4bf0",
     "locked": true,
     "schema_version": 3,
     "solution": false,
     "task": false
    },
    "papermill": {
     "duration": 0.038435,
     "end_time": "2021-04-19T11:15:53.843898",
     "exception": false,
     "start_time": "2021-04-19T11:15:53.805463",
     "status": "completed"
    },
    "tags": []
   },
   "source": [
    "# Exercise Sheet 1: Python Basics\n",
    "\n",
    "This first  exercise sheet tests the basic functionalities of the Python programming language in the context of a simple prediction task. We consider the problem of predicting health risk of subjects from personal data and habits. We first use for this task a decision tree.\n",
    "\n",
    "![](./tree.png)\n",
    "\n",
    "Make sure that you have downloaded the `tree.png` file from ISIS. For this exercise sheet, you are required to use only pure Python, and to not import any module, including `Numpy`. Next week are going to implement the nearest neighbor part of this exercise sheet using `Numpy` 😉."
   ]
  },
  {
   "cell_type": "markdown",
   "id": "parental-president",
   "metadata": {
    "deletable": false,
    "editable": false,
    "nbgrader": {
     "cell_type": "markdown",
     "checksum": "4f564e12d46d132b419ae75e9a1b1f46",
     "grade": false,
     "grade_id": "cell-33557bd5b8af8865",
     "locked": true,
     "schema_version": 3,
     "solution": false,
     "task": false
    },
    "papermill": {
     "duration": 0.038619,
     "end_time": "2021-04-19T11:15:53.920666",
     "exception": false,
     "start_time": "2021-04-19T11:15:53.882047",
     "status": "completed"
    },
    "tags": []
   },
   "source": [
    "## Classifying a single instance (15 P)\n",
    "\n",
    "* In this sheet we will represent patient info as a tuple.\n",
    "* Implement the function `decision` that takes as input a tuple containing values for attributes (smoker,age,diet), and computes the output of the decision tree. Should return either `'less'` or `'more'`. No other outputs are valid."
   ]
  },
  {
   "cell_type": "code",
   "execution_count": 4,
   "id": "alive-usage",
   "metadata": {
    "execution": {
     "iopub.execute_input": "2021-04-19T11:15:54.000541Z",
     "iopub.status.busy": "2021-04-19T11:15:53.999910Z",
     "iopub.status.idle": "2021-04-19T11:15:54.005619Z",
     "shell.execute_reply": "2021-04-19T11:15:54.004993Z"
    },
    "papermill": {
     "duration": 0.046518,
     "end_time": "2021-04-19T11:15:54.005767",
     "exception": false,
     "start_time": "2021-04-19T11:15:53.959249",
     "status": "completed"
    },
    "tags": []
   },
   "outputs": [],
   "source": [
    "## PLEASE RUN THE CODE BELOW. NO NEED TO CHANGE ANYTHING (All code should run as expected)\n",
    "\n",
    "# This notebook was completed in the Kaggle online IDE, which uses \"/kaggle/input...\" file paths. \n",
    "# The variables below are just so I can easily switch between the Kaggle path and the paths used for submitting the homework\n",
    "\n",
    "# Homework submit file path\n",
    "health_test = \"./health-test.txt\"\n",
    "health_train = \"./health-train.txt\"\n",
    "\n",
    "# Kaggle editing file path (leave on \"False\")\n",
    "kaggle_mode = False\n",
    "if kaggle_mode:\n",
    "    health_test = \"/kaggle/input/pyml-1/health-test.txt\"\n",
    "    health_train = \"/kaggle/input/pyml-1/health-train.txt\""
   ]
  },
  {
   "cell_type": "code",
   "execution_count": 8,
   "id": "elect-delicious",
   "metadata": {
    "deletable": false,
    "execution": {
     "iopub.execute_input": "2021-04-19T11:15:54.086598Z",
     "iopub.status.busy": "2021-04-19T11:15:54.085923Z",
     "iopub.status.idle": "2021-04-19T11:15:54.092308Z",
     "shell.execute_reply": "2021-04-19T11:15:54.092888Z"
    },
    "nbgrader": {
     "cell_type": "code",
     "checksum": "756c7890dc2fe45e0ba273bc00e8efa3",
     "grade": false,
     "grade_id": "cell-b66d7278bc313c94",
     "locked": false,
     "schema_version": 3,
     "solution": true
    },
    "papermill": {
     "duration": 0.048913,
     "end_time": "2021-04-19T11:15:54.093057",
     "exception": false,
     "start_time": "2021-04-19T11:15:54.044144",
     "status": "completed"
    },
    "tags": []
   },
   "outputs": [],
   "source": [
    "def decision(x: tuple) -> str:\n",
    "    '''\n",
    "    This function implements the decision tree represented in the above image. As input the function \n",
    "    receives a tuple with three values that represent some information about a patient.\n",
    "    Args:\n",
    "        x (tuple): Input tuple containing exactly three values. The first element represents \n",
    "        a patient is a smoker this value will be 'yes'. All other values represent that \n",
    "        the patient is not a smoker. The second element represents the age of a patient\n",
    "        in years as an integer. The last element represents the diet of a patient.\n",
    "        If a patient has a good diet this string will be 'good'. All other\n",
    "            values represent that the patient has a poor diet.\n",
    "    Returns:\n",
    "        string: A string that has either the value 'more' or 'less'. \n",
    "        No other return value is valid.\n",
    "                        \n",
    "    '''\n",
    "\n",
    "\n",
    "    if x[0] == 'yes':\n",
    "        if x[1] < 29.5:\n",
    "            return 'less'\n",
    "        else:\n",
    "            return 'more'\n",
    "    else:\n",
    "        if x[2] == 'good':\n",
    "            return 'less'\n",
    "        else:\n",
    "            return 'more'\n"
   ]
  },
  {
   "cell_type": "code",
   "execution_count": 9,
   "id": "perceived-illinois",
   "metadata": {
    "deletable": false,
    "editable": false,
    "execution": {
     "iopub.execute_input": "2021-04-19T11:15:54.178878Z",
     "iopub.status.busy": "2021-04-19T11:15:54.178193Z",
     "iopub.status.idle": "2021-04-19T11:15:54.181118Z",
     "shell.execute_reply": "2021-04-19T11:15:54.181750Z"
    },
    "nbgrader": {
     "cell_type": "code",
     "checksum": "9cd2981954ceab1ad21b8866d2a97021",
     "grade": true,
     "grade_id": "cell-c31b80471db3132f",
     "locked": true,
     "points": 15,
     "schema_version": 3,
     "solution": false
    },
    "papermill": {
     "duration": 0.050386,
     "end_time": "2021-04-19T11:15:54.181989",
     "exception": false,
     "start_time": "2021-04-19T11:15:54.131603",
     "status": "completed"
    },
    "tags": []
   },
   "outputs": [
    {
     "output_type": "stream",
     "name": "stdout",
     "text": [
      "decision(('yes', 31, 'good')) --> more\ndecision(('yes', 29, 'poor')) --> less\n"
     ]
    }
   ],
   "source": [
    "# Test decision function\n",
    "\n",
    "# Test expected 'more'\n",
    "x = ('yes', 31, 'good')\n",
    "output = decision(x)\n",
    "print(f'decision({x}) --> {output}')\n",
    "t.assertIsInstance(output, str)\n",
    "t.assertEqual(output, 'more')\n",
    "\n",
    "# Test expected 'less'\n",
    "x = ('yes', 29, 'poor')\n",
    "output = decision(x)\n",
    "print(f'decision({x}) --> {output}')\n",
    "t.assertIsInstance(output, str)\n",
    "t.assertEqual(output, 'less')\n"
   ]
  },
  {
   "cell_type": "code",
   "execution_count": 5,
   "id": "african-navigator",
   "metadata": {
    "deletable": false,
    "editable": false,
    "execution": {
     "iopub.execute_input": "2021-04-19T11:15:54.267579Z",
     "iopub.status.busy": "2021-04-19T11:15:54.266868Z",
     "iopub.status.idle": "2021-04-19T11:15:54.270302Z",
     "shell.execute_reply": "2021-04-19T11:15:54.270850Z"
    },
    "nbgrader": {
     "cell_type": "code",
     "checksum": "a002cdeb30f449ded2d741a0cecaac82",
     "grade": true,
     "grade_id": "cell-a706e6de3303d3e7",
     "locked": true,
     "points": 0,
     "schema_version": 3,
     "solution": false,
     "task": false
    },
    "papermill": {
     "duration": 0.045847,
     "end_time": "2021-04-19T11:15:54.271062",
     "exception": false,
     "start_time": "2021-04-19T11:15:54.225215",
     "status": "completed"
    },
    "tags": []
   },
   "outputs": [],
   "source": [
    "# This cell is for grading. DO NOT remove it"
   ]
  },
  {
   "cell_type": "markdown",
   "id": "living-gardening",
   "metadata": {
    "deletable": false,
    "editable": false,
    "nbgrader": {
     "cell_type": "markdown",
     "checksum": "01fc86ffb048b4c11a92662a3b96edda",
     "grade": false,
     "grade_id": "cell-f99e2c2efcd83d8e",
     "locked": true,
     "schema_version": 3,
     "solution": false,
     "task": false
    },
    "papermill": {
     "duration": 0.039125,
     "end_time": "2021-04-19T11:15:54.349364",
     "exception": false,
     "start_time": "2021-04-19T11:15:54.310239",
     "status": "completed"
    },
    "tags": []
   },
   "source": [
    "## Reading a dataset from a text file (10 P)\n",
    "\n",
    "The file `health-test.txt` contains several fictious records of personal data and habits. We split this task into two parts. In the first part, we assume that we have read a line from the file and can now process it. In the second function we load the file and process each line.\n",
    "\n",
    "* Read the file automatically using the methods introduced during the lecture.\n",
    "* Represent the dataset as a list of tuples. Make sure that the tuples have the same format as in the previous task, e.g. `('yes', 31, 'good')`.\n",
    "* Make sure that you close the file after you have opened it and read its content. If you use a `with` statement then you don't have to worry about closing the file.\n",
    "\n",
    "**Notes**: \n",
    "* Values read from files are always strings.\n",
    "* Each line contains a newline `\\n` character at the end\n",
    "* If you are using Windows as your operating system, refrain from opening any text files using Notepad. It will remove any linebreaks `\\n`. You should inspect the files using the Jupyter text editor or any other modern text editor."
   ]
  },
  {
   "cell_type": "code",
   "execution_count": null,
   "id": "absent-program",
   "metadata": {
    "papermill": {
     "duration": 0.039007,
     "end_time": "2021-04-19T11:15:54.427565",
     "exception": false,
     "start_time": "2021-04-19T11:15:54.388558",
     "status": "completed"
    },
    "tags": []
   },
   "outputs": [],
   "source": []
  },
  {
   "cell_type": "code",
   "execution_count": 30,
   "id": "comfortable-multimedia",
   "metadata": {
    "deletable": false,
    "execution": {
     "iopub.execute_input": "2021-04-19T11:15:54.509904Z",
     "iopub.status.busy": "2021-04-19T11:15:54.509278Z",
     "iopub.status.idle": "2021-04-19T11:15:54.515695Z",
     "shell.execute_reply": "2021-04-19T11:15:54.515143Z"
    },
    "nbgrader": {
     "cell_type": "code",
     "checksum": "ede25b1c5d5d92c3617b98020fa50cd6",
     "grade": false,
     "grade_id": "cell-c1a8bc4c0e4ccb26",
     "locked": false,
     "schema_version": 3,
     "solution": true
    },
    "papermill": {
     "duration": 0.048556,
     "end_time": "2021-04-19T11:15:54.515848",
     "exception": false,
     "start_time": "2021-04-19T11:15:54.467292",
     "status": "completed"
    },
    "tags": []
   },
   "outputs": [],
   "source": [
    "def parse_line_test(line: str) -> tuple:\n",
    "    '''\n",
    "    Takes a line from the file, including a newline, and parses it into a patient tuple\n",
    "    \n",
    "    Args:\n",
    "        line (str): A line from the `health-test.txt` file\n",
    "    Returns:\n",
    "        tuple: A tuple representing a patient \n",
    "    '''\n",
    "    \n",
    "    patient = line.splitlines()[0].split(',')\n",
    "    patient[1] = int(patient[1])\n",
    "    \n",
    "    return tuple(patient)"
   ]
  },
  {
   "cell_type": "code",
   "execution_count": 31,
   "id": "ranking-franklin",
   "metadata": {
    "deletable": false,
    "editable": false,
    "execution": {
     "iopub.execute_input": "2021-04-19T11:15:54.605502Z",
     "iopub.status.busy": "2021-04-19T11:15:54.604482Z",
     "iopub.status.idle": "2021-04-19T11:15:54.609402Z",
     "shell.execute_reply": "2021-04-19T11:15:54.610089Z"
    },
    "nbgrader": {
     "cell_type": "code",
     "checksum": "91373160b4904892fef167647139dcb6",
     "grade": true,
     "grade_id": "cell-4e1f7ad1e66b3121",
     "locked": true,
     "points": 5,
     "schema_version": 3,
     "solution": false
    },
    "papermill": {
     "duration": 0.054754,
     "end_time": "2021-04-19T11:15:54.610350",
     "exception": false,
     "start_time": "2021-04-19T11:15:54.555596",
     "status": "completed"
    },
    "tags": []
   },
   "outputs": [
    {
     "output_type": "stream",
     "name": "stdout",
     "text": [
      "('yes', 23, 'good')\n"
     ]
    }
   ],
   "source": [
    "x = 'yes,23,good\\n'\n",
    "parsed_line = parse_line_test(x)\n",
    "print(parsed_line)\n",
    "t.assertIsInstance(parsed_line, tuple)\n",
    "t.assertEqual(len(parsed_line), 3)\n",
    "t.assertIsInstance(parsed_line[1], int)\n",
    "t.assertNotIn('\\n', parsed_line[-1], 'Are you handling line breaks correctly?')\n",
    "t.assertEqual(parsed_line[-1], 'good')\n"
   ]
  },
  {
   "cell_type": "code",
   "execution_count": 8,
   "id": "flying-arthritis",
   "metadata": {
    "deletable": false,
    "editable": false,
    "execution": {
     "iopub.execute_input": "2021-04-19T11:15:54.695870Z",
     "iopub.status.busy": "2021-04-19T11:15:54.695184Z",
     "iopub.status.idle": "2021-04-19T11:15:54.698466Z",
     "shell.execute_reply": "2021-04-19T11:15:54.698993Z"
    },
    "nbgrader": {
     "cell_type": "code",
     "checksum": "ff88dfc864c57b2eb8238574d968d84e",
     "grade": true,
     "grade_id": "cell-0ed341eaf90d76a6",
     "locked": true,
     "points": 0,
     "schema_version": 3,
     "solution": false,
     "task": false
    },
    "papermill": {
     "duration": 0.046309,
     "end_time": "2021-04-19T11:15:54.699160",
     "exception": false,
     "start_time": "2021-04-19T11:15:54.652851",
     "status": "completed"
    },
    "tags": []
   },
   "outputs": [],
   "source": [
    "# This cell is for grading. DO NOT remove it"
   ]
  },
  {
   "cell_type": "code",
   "execution_count": 32,
   "id": "illegal-vessel",
   "metadata": {
    "deletable": false,
    "execution": {
     "iopub.execute_input": "2021-04-19T11:15:54.783455Z",
     "iopub.status.busy": "2021-04-19T11:15:54.782812Z",
     "iopub.status.idle": "2021-04-19T11:15:54.788767Z",
     "shell.execute_reply": "2021-04-19T11:15:54.789283Z"
    },
    "nbgrader": {
     "cell_type": "code",
     "checksum": "0851542d2949034027f05c7d195ecdb4",
     "grade": false,
     "grade_id": "cell-844c38f934d4a3ef",
     "locked": false,
     "schema_version": 3,
     "solution": true,
     "task": false
    },
    "papermill": {
     "duration": 0.0498,
     "end_time": "2021-04-19T11:15:54.789491",
     "exception": false,
     "start_time": "2021-04-19T11:15:54.739691",
     "status": "completed"
    },
    "tags": []
   },
   "outputs": [],
   "source": [
    "def gettest() -> list:\n",
    "    '''\n",
    "    Opens the `health-test.txt` file and parses it \n",
    "    into a list of patient tuples. You are encouraged to use \n",
    "    the `parse_line_test` function but it is not necessary to do so.\n",
    "    \n",
    "    Returns:\n",
    "        list: A list of patient tuples\n",
    "    '''\n",
    "    with open(health_test, 'r') as f:\n",
    "    \n",
    "        data = []\n",
    "        # TODO: don't use for loops here\n",
    "        for line in f:\n",
    "            data.append(parse_line_test(line))\n",
    "            '''\n",
    "            for patient in patient.splitlines():\n",
    "                patient = patient.split(',')\n",
    "                patient[1] = int(patient[1])\n",
    "                data.append(tuple(patient))\n",
    "            '''\n",
    "    return data"
   ]
  },
  {
   "cell_type": "code",
   "execution_count": 33,
   "id": "impaired-horizontal",
   "metadata": {
    "deletable": false,
    "editable": false,
    "execution": {
     "iopub.execute_input": "2021-04-19T11:15:54.873280Z",
     "iopub.status.busy": "2021-04-19T11:15:54.872685Z",
     "iopub.status.idle": "2021-04-19T11:15:54.898809Z",
     "shell.execute_reply": "2021-04-19T11:15:54.899386Z"
    },
    "nbgrader": {
     "cell_type": "code",
     "checksum": "3272a62886b113d328e28dede8f89973",
     "grade": true,
     "grade_id": "cell-ab1b01fcaac26cd5",
     "locked": true,
     "points": 5,
     "schema_version": 3,
     "solution": false,
     "task": false
    },
    "papermill": {
     "duration": 0.06953,
     "end_time": "2021-04-19T11:15:54.899607",
     "exception": false,
     "start_time": "2021-04-19T11:15:54.830077",
     "status": "completed"
    },
    "tags": []
   },
   "outputs": [
    {
     "output_type": "stream",
     "name": "stdout",
     "text": [
      "[('yes', 21, 'poor'),\n ('no', 50, 'good'),\n ('no', 23, 'good'),\n ('yes', 45, 'poor'),\n ('yes', 51, 'good'),\n ('no', 60, 'good'),\n ('no', 15, 'poor'),\n ('no', 18, 'good')]\n"
     ]
    }
   ],
   "source": [
    "testset = gettest()\n",
    "pprint(testset)\n",
    "t.assertIsInstance(testset, list)\n",
    "t.assertEqual(len(testset), 8)\n",
    "t.assertIsInstance(testset[0], tuple)\n"
   ]
  },
  {
   "cell_type": "code",
   "execution_count": 11,
   "id": "copyrighted-lesson",
   "metadata": {
    "deletable": false,
    "editable": false,
    "execution": {
     "iopub.execute_input": "2021-04-19T11:15:54.984290Z",
     "iopub.status.busy": "2021-04-19T11:15:54.983701Z",
     "iopub.status.idle": "2021-04-19T11:15:54.986963Z",
     "shell.execute_reply": "2021-04-19T11:15:54.987450Z"
    },
    "nbgrader": {
     "cell_type": "code",
     "checksum": "69a5d31521d79fb22447e17337cc2aa8",
     "grade": true,
     "grade_id": "cell-42b0a5cad68fc15a",
     "locked": true,
     "points": 0,
     "schema_version": 3,
     "solution": false,
     "task": false
    },
    "papermill": {
     "duration": 0.046935,
     "end_time": "2021-04-19T11:15:54.987623",
     "exception": false,
     "start_time": "2021-04-19T11:15:54.940688",
     "status": "completed"
    },
    "tags": []
   },
   "outputs": [],
   "source": [
    "# This cell is for grading. DO NOT remove it"
   ]
  },
  {
   "cell_type": "markdown",
   "id": "sized-pixel",
   "metadata": {
    "papermill": {
     "duration": 0.041461,
     "end_time": "2021-04-19T11:15:55.069467",
     "exception": false,
     "start_time": "2021-04-19T11:15:55.028006",
     "status": "completed"
    },
    "tags": []
   },
   "source": [
    "## Applying the decision tree to the dataset (15 P)\n",
    "\n",
    "* Apply the decision tree to all points in the dataset, and return the ratio of them that are classified as \"more\".\n",
    "* A ratio is a value in [0-1]. So if out of 50 data points 15 return `\"more\"` the value that should be returned is `0.3`"
   ]
  },
  {
   "cell_type": "code",
   "execution_count": 36,
   "id": "opposed-shelter",
   "metadata": {
    "deletable": false,
    "execution": {
     "iopub.execute_input": "2021-04-19T11:15:55.154745Z",
     "iopub.status.busy": "2021-04-19T11:15:55.154063Z",
     "iopub.status.idle": "2021-04-19T11:15:55.159839Z",
     "shell.execute_reply": "2021-04-19T11:15:55.159274Z"
    },
    "nbgrader": {
     "cell_type": "code",
     "checksum": "2401d5533c3dd958bde4bbf632815bbc",
     "grade": false,
     "grade_id": "cell-6703ef98e2b5c93b",
     "locked": false,
     "schema_version": 3,
     "solution": true
    },
    "papermill": {
     "duration": 0.049425,
     "end_time": "2021-04-19T11:15:55.159989",
     "exception": false,
     "start_time": "2021-04-19T11:15:55.110564",
     "status": "completed"
    },
    "tags": []
   },
   "outputs": [],
   "source": [
    "def evaluate_testset(dataset: list) -> float:\n",
    "    '''\n",
    "    Calculates the percentage of datapoints for which the\n",
    "    decision function evaluates to `'more'` for a given dataset\n",
    "    \n",
    "    Args:\n",
    "        dataset (list): A list of patient tuples\n",
    "    \n",
    "    Returns:\n",
    "        float: The percentage of data points which are evaluated to `'more'`\n",
    "    '''\n",
    "    # YOUR CODE HERE\n",
    "    more_count = 0\n",
    "    for patient in dataset:\n",
    "        if decision(patient) == 'more':\n",
    "            more_count += 1\n",
    "    return more_count/len(dataset)\n",
    "\n",
    "\n",
    "    # YOUR CODE HERE"
   ]
  },
  {
   "cell_type": "code",
   "execution_count": 37,
   "id": "entire-boulder",
   "metadata": {
    "deletable": false,
    "editable": false,
    "execution": {
     "iopub.execute_input": "2021-04-19T11:15:55.248012Z",
     "iopub.status.busy": "2021-04-19T11:15:55.247317Z",
     "iopub.status.idle": "2021-04-19T11:15:55.251899Z",
     "shell.execute_reply": "2021-04-19T11:15:55.252778Z"
    },
    "nbgrader": {
     "cell_type": "code",
     "checksum": "0ba540cbd6fbf6d1184b4a4114387abb",
     "grade": true,
     "grade_id": "cell-c13a0b23c9faba52",
     "locked": true,
     "points": 15,
     "schema_version": 3,
     "solution": false
    },
    "papermill": {
     "duration": 0.052185,
     "end_time": "2021-04-19T11:15:55.253149",
     "exception": false,
     "start_time": "2021-04-19T11:15:55.200964",
     "status": "completed"
    },
    "tags": []
   },
   "outputs": [
    {
     "output_type": "stream",
     "name": "stdout",
     "text": [
      "ratio --> 0.375\n"
     ]
    }
   ],
   "source": [
    "ratio = evaluate_testset(gettest())\n",
    "print(f'ratio --> {ratio}')\n",
    "t.assertIsInstance(ratio, float)\n",
    "assert_percentage(ratio)\n"
   ]
  },
  {
   "cell_type": "markdown",
   "id": "german-williams",
   "metadata": {
    "papermill": {
     "duration": 0.041058,
     "end_time": "2021-04-19T11:15:55.336453",
     "exception": false,
     "start_time": "2021-04-19T11:15:55.295395",
     "status": "completed"
    },
    "tags": []
   },
   "source": [
    "## Learning from examples (10 P)\n",
    "\n",
    "Suppose that instead of relying on a fixed decision tree, we would like to use a data-driven approach where data points are classified based on a set of training observations manually labeled by experts. Such labeled dataset is available in the file `health-train.txt`. The first three columns have the same meaning than for `health-test.txt`, and the last column corresponds to the labels.\n",
    "\n",
    "* Read the `health-train.txt` file and convert it into a list of pairs. The first element of each pair is a triplet of attributes, and the second element is the label.\n",
    "* Similarlly to the previous exercise we split the task into two parts. The first involves processing each line individually. The second handles opening the file and processing all lines of the file\n",
    "\n",
    "**Note**: A triplet is a tuple that contains exactly three values, a pair is a tuple that contains exactly two values"
   ]
  },
  {
   "cell_type": "code",
   "execution_count": 38,
   "id": "exciting-formula",
   "metadata": {
    "deletable": false,
    "execution": {
     "iopub.execute_input": "2021-04-19T11:15:55.426501Z",
     "iopub.status.busy": "2021-04-19T11:15:55.425698Z",
     "iopub.status.idle": "2021-04-19T11:15:55.428710Z",
     "shell.execute_reply": "2021-04-19T11:15:55.428158Z"
    },
    "nbgrader": {
     "cell_type": "code",
     "checksum": "f47d064d7cc48ce03719c60e817fb174",
     "grade": false,
     "grade_id": "cell-fc38ed11fee6fbeb",
     "locked": false,
     "schema_version": 3,
     "solution": true
    },
    "papermill": {
     "duration": 0.050818,
     "end_time": "2021-04-19T11:15:55.428850",
     "exception": false,
     "start_time": "2021-04-19T11:15:55.378032",
     "status": "completed"
    },
    "tags": []
   },
   "outputs": [],
   "source": [
    "def parse_line_train(line: str) -> tuple:\n",
    "    '''\n",
    "    This function works similarly to the `parse_line_test` function.\n",
    "    It parses a line of the `health-train.txt` file into a tuple that \n",
    "    contains a patient tuple and a label.\n",
    "    \n",
    "    Args:\n",
    "        line (str): A line from the `health-train.txt`\n",
    "    \n",
    "    Returns: \n",
    "        tuple: A tuple that contains a patient tuple and a label as a string\n",
    "    '''\n",
    "    patient = line.splitlines()[0].split(',')\n",
    "    patient[1] = int(patient[1])\n",
    "    \n",
    "    pair_1, pair_2 = tuple(patient[:3]), patient[3]\n",
    "       \n",
    "    res = (pair_1, pair_2)\n",
    "    \n",
    "    return res"
   ]
  },
  {
   "cell_type": "code",
   "execution_count": 39,
   "id": "horizontal-version",
   "metadata": {
    "deletable": false,
    "editable": false,
    "execution": {
     "iopub.execute_input": "2021-04-19T11:15:55.515827Z",
     "iopub.status.busy": "2021-04-19T11:15:55.514875Z",
     "iopub.status.idle": "2021-04-19T11:15:55.524638Z",
     "shell.execute_reply": "2021-04-19T11:15:55.523848Z"
    },
    "nbgrader": {
     "cell_type": "code",
     "checksum": "64965f61a9992fcaca5ed21793a98b40",
     "grade": true,
     "grade_id": "cell-b97620858b167c0d",
     "locked": true,
     "points": 5,
     "schema_version": 3,
     "solution": false,
     "task": false
    },
    "papermill": {
     "duration": 0.05414,
     "end_time": "2021-04-19T11:15:55.524828",
     "exception": false,
     "start_time": "2021-04-19T11:15:55.470688",
     "status": "completed"
    },
    "tags": []
   },
   "outputs": [
    {
     "output_type": "stream",
     "name": "stdout",
     "text": [
      "(('yes', 67, 'poor'), 'more')\n"
     ]
    }
   ],
   "source": [
    "x = 'yes,67,poor,more\\n'\n",
    "parsed_line = parse_line_train(x)\n",
    "print(parsed_line)\n",
    "\n",
    "t.assertIsInstance(parsed_line, tuple)\n",
    "t.assertEqual(len(parsed_line), 2)\n",
    "\n",
    "data, label = parsed_line\n",
    "\n",
    "t.assertIsInstance(data, tuple)\n",
    "t.assertEqual(len(data), 3)\n",
    "t.assertEqual(data[1], 67)\n",
    "\n",
    "t.assertIsInstance(label, str)\n",
    "t.assertNotIn('\\n', label, 'Are you handling line breaks correctly?')\n",
    "t.assertEqual(label, 'more')\n"
   ]
  },
  {
   "cell_type": "code",
   "execution_count": 16,
   "id": "introductory-sheep",
   "metadata": {
    "deletable": false,
    "editable": false,
    "execution": {
     "iopub.execute_input": "2021-04-19T11:15:55.615429Z",
     "iopub.status.busy": "2021-04-19T11:15:55.614398Z",
     "iopub.status.idle": "2021-04-19T11:15:55.616937Z",
     "shell.execute_reply": "2021-04-19T11:15:55.617494Z"
    },
    "nbgrader": {
     "cell_type": "code",
     "checksum": "5d360bdd66c4f65216fb37dc1c36f30a",
     "grade": true,
     "grade_id": "cell-ced9925599b5dd99",
     "locked": true,
     "points": 0,
     "schema_version": 3,
     "solution": false,
     "task": false
    },
    "papermill": {
     "duration": 0.050401,
     "end_time": "2021-04-19T11:15:55.617675",
     "exception": false,
     "start_time": "2021-04-19T11:15:55.567274",
     "status": "completed"
    },
    "tags": []
   },
   "outputs": [],
   "source": [
    "# This cell is for grading. DO NOT remove it"
   ]
  },
  {
   "cell_type": "code",
   "execution_count": 40,
   "id": "minute-indonesia",
   "metadata": {
    "deletable": false,
    "execution": {
     "iopub.execute_input": "2021-04-19T11:15:55.705520Z",
     "iopub.status.busy": "2021-04-19T11:15:55.704573Z",
     "iopub.status.idle": "2021-04-19T11:15:55.711108Z",
     "shell.execute_reply": "2021-04-19T11:15:55.711633Z"
    },
    "nbgrader": {
     "cell_type": "code",
     "checksum": "68e6844ec2f76111c00fe137e2ca2560",
     "grade": false,
     "grade_id": "cell-183f0bbeecd179c4",
     "locked": false,
     "schema_version": 3,
     "solution": true,
     "task": false
    },
    "papermill": {
     "duration": 0.052009,
     "end_time": "2021-04-19T11:15:55.711807",
     "exception": false,
     "start_time": "2021-04-19T11:15:55.659798",
     "status": "completed"
    },
    "tags": []
   },
   "outputs": [],
   "source": [
    "def gettrain() -> list:\n",
    "    '''\n",
    "    Opens the `health-train.txt` file and parses it into \n",
    "    a list of patient tuples accompanied by their respective label. \n",
    "    \n",
    "    Returns:\n",
    "        list: A list of tuples comprised of a patient tuple and a label\n",
    "    '''\n",
    "    # YOUR CODE HERE\n",
    "    with open(health_train, 'r') as f:\n",
    "    \n",
    "        data = []\n",
    "        # TODO: don't use for loops here\n",
    "        for line in f:\n",
    "            data.append(parse_line_train(line))\n",
    "    return data\n",
    "    # YOUR CODE HERE"
   ]
  },
  {
   "cell_type": "code",
   "execution_count": 41,
   "id": "exclusive-wright",
   "metadata": {
    "deletable": false,
    "editable": false,
    "execution": {
     "iopub.execute_input": "2021-04-19T11:15:55.800988Z",
     "iopub.status.busy": "2021-04-19T11:15:55.800328Z",
     "iopub.status.idle": "2021-04-19T11:15:55.818767Z",
     "shell.execute_reply": "2021-04-19T11:15:55.817844Z"
    },
    "nbgrader": {
     "cell_type": "code",
     "checksum": "00f87b6b544cb271be54229ddb60b58c",
     "grade": true,
     "grade_id": "cell-a3d593f232e0403a",
     "locked": true,
     "points": 5,
     "schema_version": 3,
     "solution": false
    },
    "papermill": {
     "duration": 0.065324,
     "end_time": "2021-04-19T11:15:55.819020",
     "exception": false,
     "start_time": "2021-04-19T11:15:55.753696",
     "status": "completed"
    },
    "tags": []
   },
   "outputs": [
    {
     "output_type": "stream",
     "name": "stdout",
     "text": [
      "[(('yes', 54, 'good'), 'less'),\n (('no', 55, 'good'), 'less'),\n (('no', 26, 'good'), 'less'),\n (('yes', 40, 'good'), 'more'),\n (('yes', 25, 'poor'), 'less'),\n (('no', 13, 'poor'), 'more'),\n (('no', 15, 'good'), 'less'),\n (('no', 50, 'poor'), 'more'),\n (('yes', 33, 'good'), 'more'),\n (('no', 35, 'good'), 'less'),\n (('no', 41, 'good'), 'less'),\n (('yes', 30, 'poor'), 'more'),\n (('no', 39, 'poor'), 'more'),\n (('no', 20, 'good'), 'less'),\n (('yes', 18, 'poor'), 'less'),\n (('yes', 55, 'good'), 'more')]\n"
     ]
    }
   ],
   "source": [
    "trainset = gettrain()\n",
    "pprint(trainset)\n",
    "t.assertIsInstance(trainset, list)\n",
    "t.assertEqual(len(trainset), 16)\n",
    "first_datapoint = trainset[0]\n",
    "t.assertIsInstance(first_datapoint, tuple)\n",
    "t.assertIsInstance(first_datapoint[0], tuple)\n",
    "t.assertIsInstance(first_datapoint[1], str)"
   ]
  },
  {
   "cell_type": "code",
   "execution_count": 19,
   "id": "roman-justice",
   "metadata": {
    "deletable": false,
    "editable": false,
    "execution": {
     "iopub.execute_input": "2021-04-19T11:15:55.910112Z",
     "iopub.status.busy": "2021-04-19T11:15:55.909131Z",
     "iopub.status.idle": "2021-04-19T11:15:55.912441Z",
     "shell.execute_reply": "2021-04-19T11:15:55.911894Z"
    },
    "nbgrader": {
     "cell_type": "code",
     "checksum": "b1745c8c6c934e4d3fb0ac74538015ad",
     "grade": true,
     "grade_id": "cell-7ab8ef2c931d69c1",
     "locked": true,
     "points": 0,
     "schema_version": 3,
     "solution": false,
     "task": false
    },
    "papermill": {
     "duration": 0.050116,
     "end_time": "2021-04-19T11:15:55.912582",
     "exception": false,
     "start_time": "2021-04-19T11:15:55.862466",
     "status": "completed"
    },
    "tags": []
   },
   "outputs": [],
   "source": [
    "# This cell is for grading. DO NOT remove it"
   ]
  },
  {
   "cell_type": "markdown",
   "id": "diverse-ontario",
   "metadata": {
    "papermill": {
     "duration": 0.04218,
     "end_time": "2021-04-19T11:15:55.998435",
     "exception": false,
     "start_time": "2021-04-19T11:15:55.956255",
     "status": "completed"
    },
    "tags": []
   },
   "source": [
    "(a[0] != b[0]) + ((a[1] - b[1]) / 50.0) ** 2 + (a[2] != b[2])## Nearest neighbor classifier (25 P)\n",
    "\n",
    "We consider the nearest neighbor algorithm that classifies test points following the label of the nearest neighbor in the training data. You can read more about Nearest neighbor classifiers [here](http://www.robots.ox.ac.uk/~dclaus/digits/neighbour.htm). For this, we need to define a distance function between data points. We define it to be\n",
    "\n",
    "`distance(a, b) = (a[0] != b[0]) + ((a[1] - b[1]) / 50.0) ** 2 + (a[2] != b[2])`\n",
    "\n",
    "^this is not valid python code\n",
    "\n",
    "where `a` and `b` are two tuples corrsponding to the attributes of two data points.\n",
    "\n",
    "* Implement the distance function.\n",
    "* Implement the function that retrieves for a test point the nearest neighbor in the training set, and classifies the test point accordingly (i.e. returns the label of the nearest data point).\n",
    "\n",
    "**Hint**: You can use the special `infinity` floating point value with `float('inf')`"
   ]
  },
  {
   "cell_type": "code",
   "execution_count": 42,
   "id": "endless-alliance",
   "metadata": {
    "deletable": false,
    "execution": {
     "iopub.execute_input": "2021-04-19T11:15:56.090831Z",
     "iopub.status.busy": "2021-04-19T11:15:56.089868Z",
     "iopub.status.idle": "2021-04-19T11:15:56.093030Z",
     "shell.execute_reply": "2021-04-19T11:15:56.092422Z"
    },
    "nbgrader": {
     "cell_type": "code",
     "checksum": "755377e3598f8bcb5f8295052bf01b7e",
     "grade": false,
     "grade_id": "cell-671ea24ec8a11241",
     "locked": false,
     "schema_version": 3,
     "solution": true
    },
    "papermill": {
     "duration": 0.051956,
     "end_time": "2021-04-19T11:15:56.093164",
     "exception": false,
     "start_time": "2021-04-19T11:15:56.041208",
     "status": "completed"
    },
    "tags": []
   },
   "outputs": [],
   "source": [
    "def distance(a: tuple, b: tuple) -> float:\n",
    "    '''\n",
    "    Calculates the distance between two data points (patient tuples)\n",
    "    Args:\n",
    "        a, b (tuple): Two patient tuples for which we want to calculate the distance\n",
    "    Returns:\n",
    "        float: The distance between a, b according to the above formula\n",
    "    '''\n",
    "    # YOUR CODE HERE\n",
    "    bool1, bool2 = 0, 0\n",
    "    \n",
    "    if a[0] != b[0]:\n",
    "        bool1 = 1\n",
    "    if a[2] != b[2]:\n",
    "        bool2 = 1\n",
    "        \n",
    "    res = bool1 + ((a[1] - b[1]) / 50.0) ** 2 + bool2\n",
    "    \n",
    "    return res\n",
    "    # YOUR CODE HERE"
   ]
  },
  {
   "cell_type": "code",
   "execution_count": 43,
   "id": "contemporary-great",
   "metadata": {
    "deletable": false,
    "editable": false,
    "execution": {
     "iopub.execute_input": "2021-04-19T11:15:56.184950Z",
     "iopub.status.busy": "2021-04-19T11:15:56.184262Z",
     "iopub.status.idle": "2021-04-19T11:15:56.187590Z",
     "shell.execute_reply": "2021-04-19T11:15:56.186973Z"
    },
    "nbgrader": {
     "cell_type": "code",
     "checksum": "ffa854e72a9e3ed22c91490d63c67515",
     "grade": true,
     "grade_id": "cell-5929fce6ffc8ca0f",
     "locked": true,
     "points": 5,
     "schema_version": 3,
     "solution": false,
     "task": false
    },
    "papermill": {
     "duration": 0.051726,
     "end_time": "2021-04-19T11:15:56.187726",
     "exception": false,
     "start_time": "2021-04-19T11:15:56.136000",
     "status": "completed"
    },
    "tags": []
   },
   "outputs": [
    {
     "output_type": "stream",
     "name": "stdout",
     "text": [
      "distance(('yes', 34, 'poor'), ('yes', 51, 'good')) --> 1.1156\n"
     ]
    }
   ],
   "source": [
    "# Test distance\n",
    "x1 = ('yes', 34, 'poor')\n",
    "x2 = ('yes', 51, 'good')\n",
    "dist = distance(x1, x2)\n",
    "print(f'distance({x1}, {x2}) --> {dist}')\n",
    "expected_dist = 1.1156\n",
    "t.assertAlmostEqual(dist, expected_dist)\n"
   ]
  },
  {
   "cell_type": "code",
   "execution_count": 22,
   "id": "oriental-material",
   "metadata": {
    "deletable": false,
    "editable": false,
    "execution": {
     "iopub.execute_input": "2021-04-19T11:15:56.279301Z",
     "iopub.status.busy": "2021-04-19T11:15:56.278674Z",
     "iopub.status.idle": "2021-04-19T11:15:56.281641Z",
     "shell.execute_reply": "2021-04-19T11:15:56.281064Z"
    },
    "nbgrader": {
     "cell_type": "code",
     "checksum": "c3866d76d49cb35ab5cc87229ecf5d50",
     "grade": true,
     "grade_id": "cell-8dc0c32bc78d1e62",
     "locked": true,
     "points": 0,
     "schema_version": 3,
     "solution": false,
     "task": false
    },
    "papermill": {
     "duration": 0.050482,
     "end_time": "2021-04-19T11:15:56.281780",
     "exception": false,
     "start_time": "2021-04-19T11:15:56.231298",
     "status": "completed"
    },
    "tags": []
   },
   "outputs": [],
   "source": [
    "# This cell is for grading. DO NOT remove it"
   ]
  },
  {
   "cell_type": "code",
   "execution_count": 44,
   "id": "mexican-adams",
   "metadata": {
    "deletable": false,
    "execution": {
     "iopub.execute_input": "2021-04-19T11:15:56.375591Z",
     "iopub.status.busy": "2021-04-19T11:15:56.374877Z",
     "iopub.status.idle": "2021-04-19T11:15:56.376818Z",
     "shell.execute_reply": "2021-04-19T11:15:56.377383Z"
    },
    "nbgrader": {
     "cell_type": "code",
     "checksum": "c95880c38e759023b794e08c9e632e78",
     "grade": false,
     "grade_id": "cell-e2ffaa5484ac1886",
     "locked": false,
     "schema_version": 3,
     "solution": true,
     "task": false
    },
    "papermill": {
     "duration": 0.051971,
     "end_time": "2021-04-19T11:15:56.377561",
     "exception": false,
     "start_time": "2021-04-19T11:15:56.325590",
     "status": "completed"
    },
    "tags": []
   },
   "outputs": [],
   "source": [
    "def neighbor(x: tuple, trainset: list) -> str:\n",
    "    '''\n",
    "    Returns the label of the nearest data point in trainset to x.\n",
    "    If x is `('no', 30, 'good')` and the nearest data point in trainset\n",
    "    is `('no', 31, 'good')` with label `'less'` then `'less'` will be returned \n",
    "    \n",
    "    Args: \n",
    "        x (tuple): The data point for which we want to find the nearest neighbor\n",
    "        trainset (list): A list of tuples with patient tuples and a label\n",
    "        \n",
    "    Returns: \n",
    "        str: The label of the nearest data point in the trainset. Can only be 'more' or 'less'\n",
    "    '''\n",
    "    dist_dict = {}\n",
    "\n",
    "    for patient in trainset:\n",
    "        dist_dict[distance(x, patient[0])] = patient\n",
    "    \n",
    "    nearest_patient = dist_dict[min(dist_dict.keys())]\n",
    "    \n",
    "    return nearest_patient[1]\n"
   ]
  },
  {
   "cell_type": "code",
   "execution_count": 45,
   "id": "floral-celtic",
   "metadata": {
    "deletable": false,
    "editable": false,
    "execution": {
     "iopub.execute_input": "2021-04-19T11:15:56.468989Z",
     "iopub.status.busy": "2021-04-19T11:15:56.468298Z",
     "iopub.status.idle": "2021-04-19T11:15:56.476614Z",
     "shell.execute_reply": "2021-04-19T11:15:56.475816Z"
    },
    "nbgrader": {
     "cell_type": "code",
     "checksum": "cd3537d4bd6769672456f946cc37c547",
     "grade": true,
     "grade_id": "cell-a36122337853f195",
     "locked": true,
     "points": 10,
     "schema_version": 3,
     "solution": false
    },
    "papermill": {
     "duration": 0.05534,
     "end_time": "2021-04-19T11:15:56.476807",
     "exception": false,
     "start_time": "2021-04-19T11:15:56.421467",
     "status": "completed"
    },
    "tags": []
   },
   "outputs": [
    {
     "output_type": "stream",
     "name": "stdout",
     "text": [
      "prediction --> more\n"
     ]
    }
   ],
   "source": [
    "# Test neighbor\n",
    "x = ('yes', 31, 'good')\n",
    "prediction = neighbor(x, gettrain())\n",
    "print(f'prediction --> {prediction}')\n",
    "expected = 'more'\n",
    "t.assertEqual(prediction, expected)\n"
   ]
  },
  {
   "cell_type": "code",
   "execution_count": 25,
   "id": "numerical-shooting",
   "metadata": {
    "deletable": false,
    "editable": false,
    "execution": {
     "iopub.execute_input": "2021-04-19T11:15:56.569301Z",
     "iopub.status.busy": "2021-04-19T11:15:56.568655Z",
     "iopub.status.idle": "2021-04-19T11:15:56.571840Z",
     "shell.execute_reply": "2021-04-19T11:15:56.571331Z"
    },
    "nbgrader": {
     "cell_type": "code",
     "checksum": "39d16b55bb994bf1f1b355e07a0040b0",
     "grade": true,
     "grade_id": "cell-cbf6ddfbfaab7875",
     "locked": true,
     "points": 0,
     "schema_version": 3,
     "solution": false,
     "task": false
    },
    "papermill": {
     "duration": 0.05045,
     "end_time": "2021-04-19T11:15:56.571978",
     "exception": false,
     "start_time": "2021-04-19T11:15:56.521528",
     "status": "completed"
    },
    "tags": []
   },
   "outputs": [],
   "source": [
    "# This cell is for grading. DO NOT remove it"
   ]
  },
  {
   "cell_type": "markdown",
   "id": "vulnerable-agent",
   "metadata": {
    "papermill": {
     "duration": 0.062993,
     "end_time": "2021-04-19T11:15:56.687560",
     "exception": false,
     "start_time": "2021-04-19T11:15:56.624567",
     "status": "completed"
    },
    "tags": []
   },
   "source": [
    "* Apply both the decision tree and nearest neighbor classifiers on the test set, and return the list of data point(s) for which the two classifiers disagree, and with which probability it happens."
   ]
  },
  {
   "cell_type": "code",
   "execution_count": 17,
   "id": "executed-baseline",
   "metadata": {
    "deletable": false,
    "execution": {
     "iopub.execute_input": "2021-04-19T11:15:56.790606Z",
     "iopub.status.busy": "2021-04-19T11:15:56.789847Z",
     "iopub.status.idle": "2021-04-19T11:15:56.792626Z",
     "shell.execute_reply": "2021-04-19T11:15:56.793070Z"
    },
    "nbgrader": {
     "cell_type": "code",
     "checksum": "149ab9b5fec2ca00a4b6213cc5390447",
     "grade": false,
     "grade_id": "cell-8dbf7da153f3d797",
     "locked": false,
     "schema_version": 3,
     "solution": true
    },
    "papermill": {
     "duration": 0.055323,
     "end_time": "2021-04-19T11:15:56.793241",
     "exception": false,
     "start_time": "2021-04-19T11:15:56.737918",
     "status": "completed"
    },
    "tags": []
   },
   "outputs": [],
   "source": [
    "def compare_classifiers(trainset: list, testset: list) -> float:\n",
    "    '''\n",
    "    This function compares the two classification methods by finding all the datapoints for which \n",
    "    the methods disagree.\n",
    "    \n",
    "    Args:\n",
    "        trainset (list): The training set used in the nearest neighbour classfier.\n",
    "        testset (list): Contains the elements which will be used to compare the \n",
    "            decision tree and nearest neighbor classification methods.\n",
    "    \n",
    "    Returns:\n",
    "        list: A list containing all the data points which yield different results for the two\n",
    "            classification methods.\n",
    "        float: The percentage of data points for which the two methods disagree.\n",
    "    \n",
    "    '''\n",
    "    # YOUR CODE HERE\n",
    "    \n",
    "    # Initialize disagree array\n",
    "    disagree = []\n",
    "    \n",
    "    # Loop through observations\n",
    "    for observation in testset:\n",
    "    \n",
    "        # Apply decision tree to each observation in test set\n",
    "        tree = decision(observation)\n",
    "\n",
    "        # Apply nnc to each observation in test set\n",
    "        nnc = neighbor(observation, trainset)\n",
    "        #print(\"tree and nnc:\", tree, nnc)\n",
    "        \n",
    "        # Compare results. If they disagree, append current obseration to array\n",
    "        if tree != nnc:\n",
    "            disagree.append(observation)\n",
    "        \n",
    "    percentage = len(disagree) / len(testset)\n",
    "    \n",
    "    return disagree, percentage\n",
    "    # YOUR CODE HERE\n"
   ]
  },
  {
   "cell_type": "code",
   "execution_count": 18,
   "id": "respected-estimate",
   "metadata": {
    "deletable": false,
    "editable": false,
    "execution": {
     "iopub.execute_input": "2021-04-19T11:15:56.888269Z",
     "iopub.status.busy": "2021-04-19T11:15:56.887637Z",
     "iopub.status.idle": "2021-04-19T11:15:56.894018Z",
     "shell.execute_reply": "2021-04-19T11:15:56.894880Z"
    },
    "nbgrader": {
     "cell_type": "code",
     "checksum": "0ff0b92f597a12d939f935061b615fe6",
     "grade": true,
     "grade_id": "cell-3b55f7e89ad4dfeb",
     "locked": true,
     "points": 10,
     "schema_version": 3,
     "solution": false
    },
    "papermill": {
     "duration": 0.055916,
     "end_time": "2021-04-19T11:15:56.895082",
     "exception": false,
     "start_time": "2021-04-19T11:15:56.839166",
     "status": "completed"
    },
    "tags": []
   },
   "outputs": [],
   "source": [
    "# Test compare_classifiers\n",
    "disagree, ratio = compare_classifiers(gettrain(), gettest())\n",
    "t.assertIsInstance(disagree, list)\n",
    "t.assertIsInstance(disagree[0], tuple)\n",
    "assert_percentage(ratio)"
   ]
  },
  {
   "cell_type": "markdown",
   "id": "black-dublin",
   "metadata": {
    "papermill": {
     "duration": 0.045763,
     "end_time": "2021-04-19T11:15:56.986433",
     "exception": false,
     "start_time": "2021-04-19T11:15:56.940670",
     "status": "completed"
    },
    "tags": []
   },
   "source": [
    "AOTYOne problem of simple nearest neighbors is that one needs to compare the point to predict to all data points in the training set. This can be slow for datasets of thousands of points or more. Alternatively, some classifiers train a model first, and then use it to classify the data.\n",
    "\n",
    "## Nearest mean classifier (25 P)\n",
    "\n",
    "We consider one such trainable model, which operates in two steps:\n",
    "\n",
    "1. Compute the average point for each class\n",
    "2. Classify new points to be of the class whose average point is nearest to the point to predict.\n",
    "\n",
    "For this classifier, we convert the attributes smoker and diet to real values (for smoker: yes=1.0 and no=0.0, and for diet: good=0.0 and poor=1.0), and use the modified distance function:\n",
    "\n",
    "`distance(a,b) = (a[0] - b[0]) ** 2 + ((a[1] - b[1]) / 50.0) ** 2 + (a[2] - b[2]) ** 2`\n",
    "\n",
    "Age will also from now on be represented as a `float`. The new data points will be referred to as numerical patient tuples. \n",
    "\n",
    "We adopt an object-oriented approach for building this classifier.\n",
    "\n",
    "* Implement the `gettrain_num` function that will load the training dataset from the `health-train.txt` file and parse each line to a numerical patient tuple with its label. You can still follow the same structure that we used before (i.e. using a `parse_line_...` function), however, it is not required for this exercise. Only the `gettrain_num` function will be tested.\n",
    "\n",
    "\n",
    "* Implement the new distance function.\n",
    "\n",
    "\n",
    "* Implement the methods `train` and `predict` of the class `NearestMeanClassifier`."
   ]
  },
  {
   "cell_type": "code",
   "execution_count": 46,
   "id": "alternate-series",
   "metadata": {
    "deletable": false,
    "execution": {
     "iopub.execute_input": "2021-04-19T11:15:57.081509Z",
     "iopub.status.busy": "2021-04-19T11:15:57.080774Z",
     "iopub.status.idle": "2021-04-19T11:15:57.092430Z",
     "shell.execute_reply": "2021-04-19T11:15:57.092998Z"
    },
    "nbgrader": {
     "cell_type": "code",
     "checksum": "3cc6378f4396d8fd91131976d806735b",
     "grade": false,
     "grade_id": "cell-efadd1b300bd22ec",
     "locked": false,
     "schema_version": 3,
     "solution": true,
     "task": false
    },
    "papermill": {
     "duration": 0.060936,
     "end_time": "2021-04-19T11:15:57.093186",
     "exception": false,
     "start_time": "2021-04-19T11:15:57.032250",
     "status": "completed"
    },
    "tags": []
   },
   "outputs": [],
   "source": [
    "def parse_line_train_num(line: str) -> tuple:\n",
    "    '''\n",
    "    Takes a line from the file `health-train.txt`, including a newline, \n",
    "    and parses it into a numerical patient tuple\n",
    "    \n",
    "    Args:\n",
    "        line (str): A line from the `health-test.txt` file\n",
    "    Returns:\n",
    "        tuple: A numerical patient\n",
    "    '''\n",
    "    # YOUR CODE HERE\n",
    "    patient = line.splitlines()[0].split(',')\n",
    "    \n",
    "    # Convert smoker, diet into floats\n",
    "    if patient[0] == 'yes':\n",
    "        patient[0] = 1.0\n",
    "    else: \n",
    "        patient[0] = 0.0\n",
    "        \n",
    "    if patient[2] == 'poor':\n",
    "        patient[2] = 1.0\n",
    "    else:\n",
    "        patient[2] = 0.0\n",
    "    \n",
    "    patient[1] = float(patient[1])\n",
    "    \n",
    "    res = tuple(patient)\n",
    "        \n",
    "    return res\n",
    "    # YOUR CODE HERE\n",
    "\n",
    "\n",
    "def gettrain_num() -> list:\n",
    "    '''\n",
    "    Parses the `health-train.txt` file into numerical patient tuples\n",
    "    \n",
    "    Returns: \n",
    "        list: A list of tuples containing numerical patient tuples and their labels\n",
    "    '''\n",
    "    # YOUR CODE HERE\n",
    "    with open(health_train, 'r') as f:\n",
    "        \n",
    "        patients_num = []\n",
    "        \n",
    "        for line in f:\n",
    "            patient = parse_line_train_num(line)\n",
    "\n",
    "            first_pair = tuple(patient[:3])\n",
    "            second_pair = patient[3]\n",
    "            \n",
    "            patients_num.append([first_pair, second_pair])\n",
    "\n",
    "        return patients_num\n",
    "            \n",
    "    # YOUR CODE HERE"
   ]
  },
  {
   "cell_type": "code",
   "execution_count": 47,
   "id": "ranging-distinction",
   "metadata": {
    "deletable": false,
    "editable": false,
    "execution": {
     "iopub.execute_input": "2021-04-19T11:15:57.192504Z",
     "iopub.status.busy": "2021-04-19T11:15:57.191782Z",
     "iopub.status.idle": "2021-04-19T11:15:57.196700Z",
     "shell.execute_reply": "2021-04-19T11:15:57.197478Z"
    },
    "nbgrader": {
     "cell_type": "code",
     "checksum": "0a59172ed18bdaed3e530e46ed30da3f",
     "grade": true,
     "grade_id": "cell-b8a19b27d4c7de88",
     "locked": true,
     "points": 5,
     "schema_version": 3,
     "solution": false,
     "task": false
    },
    "papermill": {
     "duration": 0.058054,
     "end_time": "2021-04-19T11:15:57.197710",
     "exception": false,
     "start_time": "2021-04-19T11:15:57.139656",
     "status": "completed"
    },
    "tags": []
   },
   "outputs": [
    {
     "output_type": "stream",
     "name": "stdout",
     "text": [
      "first_datapoint --> [(1.0, 54.0, 0.0), 'less']\n"
     ]
    }
   ],
   "source": [
    "# Test gettrain_num\n",
    "trainset_num = gettrain_num()\n",
    "t.assertIsInstance(trainset_num, list)\n",
    "first_datapoint = trainset_num[0]\n",
    "print(f'first_datapoint --> {first_datapoint}')\n",
    "t.assertIsInstance(first_datapoint[0], tuple)\n",
    "t.assertIsInstance(first_datapoint[0][0], float)\n",
    "t.assertIsInstance(first_datapoint[0][1], float)\n",
    "t.assertIsInstance(first_datapoint[0][2], float)"
   ]
  },
  {
   "cell_type": "code",
   "execution_count": 30,
   "id": "express-large",
   "metadata": {
    "deletable": false,
    "editable": false,
    "execution": {
     "iopub.execute_input": "2021-04-19T11:15:57.294376Z",
     "iopub.status.busy": "2021-04-19T11:15:57.293713Z",
     "iopub.status.idle": "2021-04-19T11:15:57.298297Z",
     "shell.execute_reply": "2021-04-19T11:15:57.297762Z"
    },
    "nbgrader": {
     "cell_type": "code",
     "checksum": "90ffe9aae095119e420e54e50c3c355d",
     "grade": true,
     "grade_id": "cell-789233fd9f800e77",
     "locked": true,
     "points": 0,
     "schema_version": 3,
     "solution": false,
     "task": false
    },
    "papermill": {
     "duration": 0.053198,
     "end_time": "2021-04-19T11:15:57.298509",
     "exception": false,
     "start_time": "2021-04-19T11:15:57.245311",
     "status": "completed"
    },
    "tags": []
   },
   "outputs": [],
   "source": [
    "# This cell is for grading. DO NOT remove it"
   ]
  },
  {
   "cell_type": "code",
   "execution_count": 48,
   "id": "alternate-scope",
   "metadata": {
    "deletable": false,
    "execution": {
     "iopub.execute_input": "2021-04-19T11:15:57.398077Z",
     "iopub.status.busy": "2021-04-19T11:15:57.397449Z",
     "iopub.status.idle": "2021-04-19T11:15:57.400240Z",
     "shell.execute_reply": "2021-04-19T11:15:57.400736Z"
    },
    "nbgrader": {
     "cell_type": "code",
     "checksum": "e46d18304ebe6ac5fdfa4b17917b9eb6",
     "grade": false,
     "grade_id": "cell-d35765538d512a1a",
     "locked": false,
     "schema_version": 3,
     "solution": true,
     "task": false
    },
    "papermill": {
     "duration": 0.056017,
     "end_time": "2021-04-19T11:15:57.400910",
     "exception": false,
     "start_time": "2021-04-19T11:15:57.344893",
     "status": "completed"
    },
    "tags": []
   },
   "outputs": [],
   "source": [
    "def distance_num(a: tuple, b: tuple) -> float:\n",
    "    '''\n",
    "    Calculates the distance between two data points (numerical patient tuples)\n",
    "    Args:\n",
    "        a, b (tuple): Two numerical patient tuples for which \n",
    "            we want to calculate the distance\n",
    "    Returns:\n",
    "        float: The distance between a, b according to the above formula\n",
    "    '''\n",
    "    # YOUR CODE HERE\n",
    "    res = (a[0] - b[0]) ** 2 + ((a[1] - b[1]) / 50.0) ** 2 + (a[2] - b[2]) ** 2\n",
    "    \n",
    "    return res\n",
    "    # YOUR CODE HERE\n",
    "    "
   ]
  },
  {
   "cell_type": "code",
   "execution_count": 49,
   "id": "hourly-angel",
   "metadata": {
    "deletable": false,
    "editable": false,
    "execution": {
     "iopub.execute_input": "2021-04-19T11:15:57.500569Z",
     "iopub.status.busy": "2021-04-19T11:15:57.499581Z",
     "iopub.status.idle": "2021-04-19T11:15:57.503102Z",
     "shell.execute_reply": "2021-04-19T11:15:57.503798Z"
    },
    "nbgrader": {
     "cell_type": "code",
     "checksum": "3336955f4c7687da7b4a00da7fcc3c4d",
     "grade": true,
     "grade_id": "cell-de4d8b77145f3bff",
     "locked": true,
     "points": 2,
     "schema_version": 3,
     "solution": false,
     "task": false
    },
    "papermill": {
     "duration": 0.056442,
     "end_time": "2021-04-19T11:15:57.504027",
     "exception": false,
     "start_time": "2021-04-19T11:15:57.447585",
     "status": "completed"
    },
    "tags": []
   },
   "outputs": [
    {
     "output_type": "stream",
     "name": "stdout",
     "text": [
      "dist --> 2.1296\n"
     ]
    }
   ],
   "source": [
    "x1 = (1.0, 23.0, 0.0)\n",
    "x2 = (0.0, 41.0, 1.0)\n",
    "dist = distance_num(x1, x2)\n",
    "print(f'dist --> {dist}')\n",
    "t.assertIsInstance(dist, float)\n",
    "expected_dist = 2.1296\n",
    "t.assertAlmostEqual(dist, expected_dist)"
   ]
  },
  {
   "cell_type": "code",
   "execution_count": 33,
   "id": "separated-catch",
   "metadata": {
    "deletable": false,
    "editable": false,
    "execution": {
     "iopub.execute_input": "2021-04-19T11:15:57.603333Z",
     "iopub.status.busy": "2021-04-19T11:15:57.602702Z",
     "iopub.status.idle": "2021-04-19T11:15:57.605143Z",
     "shell.execute_reply": "2021-04-19T11:15:57.605662Z"
    },
    "nbgrader": {
     "cell_type": "code",
     "checksum": "c2b22e3ca4e043abde7cba27758fa484",
     "grade": true,
     "grade_id": "cell-28628e7373da18f2",
     "locked": true,
     "points": 0,
     "schema_version": 3,
     "solution": false,
     "task": false
    },
    "papermill": {
     "duration": 0.053847,
     "end_time": "2021-04-19T11:15:57.605824",
     "exception": false,
     "start_time": "2021-04-19T11:15:57.551977",
     "status": "completed"
    },
    "tags": []
   },
   "outputs": [],
   "source": [
    "# This cell is for grading. DO NOT remove it"
   ]
  },
  {
   "cell_type": "code",
   "execution_count": 50,
   "id": "veterinary-rebound",
   "metadata": {
    "deletable": false,
    "execution": {
     "iopub.execute_input": "2021-04-19T11:15:57.704148Z",
     "iopub.status.busy": "2021-04-19T11:15:57.703508Z",
     "iopub.status.idle": "2021-04-19T11:15:57.720972Z",
     "shell.execute_reply": "2021-04-19T11:15:57.720175Z"
    },
    "nbgrader": {
     "cell_type": "code",
     "checksum": "9df83b3821ee7949b7757553532b9113",
     "grade": false,
     "grade_id": "cell-e0b339bfd0fcc16c",
     "locked": false,
     "schema_version": 3,
     "solution": true
    },
    "papermill": {
     "duration": 0.067539,
     "end_time": "2021-04-19T11:15:57.721170",
     "exception": false,
     "start_time": "2021-04-19T11:15:57.653631",
     "status": "completed"
    },
    "tags": []
   },
   "outputs": [],
   "source": [
    "class NearestMeanClassifier:\n",
    "    '''\n",
    "    Represents a NearestMeanClassifier.\n",
    "    \n",
    "    When an instance is trained a dataset is provided and the mean for each class is calculated.\n",
    "    During prediction the instance compares the datapoint to each class mean (not all datapoints) \n",
    "    and returns the label of the class mean to which the datapoint is closest to.\n",
    "    \n",
    "    Instance Attributes:\n",
    "        more (tuple): A tuple representing the mean of every 'more' data-point in the dataset\n",
    "        less (tuple): A tuple representing the mean of every 'less' data-point in the dataset\n",
    "    '''\n",
    "    \n",
    "    def __init__(self):\n",
    "        self.more = None\n",
    "        self.less = None\n",
    "    \n",
    "    def train(self, dataset: list):\n",
    "        '''\n",
    "        Calculates the class means for a given dataset and stores \n",
    "        them in instance attributes more, less. \n",
    "        Args:\n",
    "            dataset (list): A list of tuples each of them containing a numerical patient tuple and its label\n",
    "        Returns:\n",
    "            self\n",
    "        '''\n",
    "        # YOUR CODE HERE\n",
    "        sum_more, sum_less = [0.0, 0.0, 0.0], [0.0, 0.0, 0.0]\n",
    "        count_more, count_less = 0, 0\n",
    "        \n",
    "        for line in dataset:\n",
    "            if line[1] == 'more':\n",
    "                sum_more[0] += line[0][0]\n",
    "                sum_more[1] += line[0][1]\n",
    "                sum_more[2] += line[0][2]\n",
    "                count_more += 1\n",
    "            elif line[1] == 'less':\n",
    "                sum_less[0] += line[0][0]\n",
    "                sum_less[1] += line[0][1]\n",
    "                sum_less[2] += line[0][2]\n",
    "                count_less += 1\n",
    "        \n",
    "        mean_more, mean_less = [0.0, 0.0, 0.0], [0.0, 0.0, 0.0]\n",
    "        \n",
    "        for i in range(3):\n",
    "            mean_more[i] = sum_more[i] / count_more\n",
    "            mean_less[i] = sum_less[i] / count_less\n",
    "            \n",
    "        \n",
    "        self.more = tuple(mean_more)\n",
    "        self.less = tuple(mean_less)\n",
    "        # YOUR CODE HERE\n",
    "        \n",
    "        return self\n",
    "\n",
    "    def predict(self, x: tuple) -> str:\n",
    "        '''\n",
    "        Returns a prediction/label for numeric patient tuple x. \n",
    "        The classifier compares the given data point to the mean \n",
    "        class tuples of each class and returns the label of the\n",
    "        class to which x is the closest to (according to our \n",
    "        distance function).\n",
    "        \n",
    "        Args: \n",
    "            x (tuple): A numerical patient tuple for which we want a prediction\n",
    "            \n",
    "        Returns:\n",
    "            str: The predicted label\n",
    "        '''\n",
    "        # YOUR CODE HERE\n",
    "        a = x\n",
    "        b = self.more\n",
    "        c = self.less\n",
    "        \n",
    "        res_more = (a[0] - b[0]) ** 2 + ((a[1] - b[1]) / 50.0) ** 2 + (a[2] - b[2]) ** 2\n",
    "        res_less = (a[0] - c[0]) ** 2 + ((a[1] - c[1]) / 50.0) ** 2 + (a[2] - c[2]) ** 2\n",
    "        \n",
    "        if res_more <= res_less:\n",
    "            return 'more'\n",
    "        else:\n",
    "            return 'less'\n",
    "        # YOUR CODE HERE\n",
    "        \n",
    "        \n",
    "    def __str__(self):\n",
    "        return repr(self)\n",
    "    def __repr__(self):\n",
    "        more = tuple(round(m, 3) for m in self.more) if self.more else self.more\n",
    "        less = tuple(round(l, 3) for l in self.less) if self.less else self.less\n",
    "        return f'NearestMeanClassfier(more: {more}, less: {less})'\n"
   ]
  },
  {
   "cell_type": "markdown",
   "id": "decent-skating",
   "metadata": {
    "papermill": {
     "duration": 0.047172,
     "end_time": "2021-04-19T11:15:57.816587",
     "exception": false,
     "start_time": "2021-04-19T11:15:57.769415",
     "status": "completed"
    },
    "tags": []
   },
   "source": [
    "* Instantiate the `NearestMeanClassifier`, train it on the training data, and return it"
   ]
  },
  {
   "cell_type": "code",
   "execution_count": 51,
   "id": "sitting-chemistry",
   "metadata": {
    "deletable": false,
    "execution": {
     "iopub.execute_input": "2021-04-19T11:15:57.918177Z",
     "iopub.status.busy": "2021-04-19T11:15:57.917031Z",
     "iopub.status.idle": "2021-04-19T11:15:57.920693Z",
     "shell.execute_reply": "2021-04-19T11:15:57.919949Z"
    },
    "nbgrader": {
     "cell_type": "code",
     "checksum": "7baaa272d679a938b90cf21de22c8bb1",
     "grade": false,
     "grade_id": "cell-5f7f00ee83c94703",
     "locked": false,
     "schema_version": 3,
     "solution": true
    },
    "papermill": {
     "duration": 0.056705,
     "end_time": "2021-04-19T11:15:57.920842",
     "exception": false,
     "start_time": "2021-04-19T11:15:57.864137",
     "status": "completed"
    },
    "tags": []
   },
   "outputs": [],
   "source": [
    "def build_and_train(trainset_num: list) -> NearestMeanClassifier:\n",
    "    '''\n",
    "    Instantiates the `NearestMeanClassifier`, trains it on the\n",
    "    `trainset_num` dataset and returns it.\n",
    "    \n",
    "    Args: \n",
    "        trainset_num (list): A list of numerical patient tuples with their respective labels\n",
    "    \n",
    "    Returns:\n",
    "        NearestMeanClassifier: A NearestMeanClassifier trained on `trainset_num`\n",
    "    '''\n",
    "    # YOUR CODE HERE\n",
    "    c = NearestMeanClassifier()\n",
    "    c.train(gettrain_num())\n",
    "    \n",
    "    return c\n",
    "    # YOUR CODE HERE"
   ]
  },
  {
   "cell_type": "code",
   "execution_count": 52,
   "id": "considered-endorsement",
   "metadata": {
    "deletable": false,
    "editable": false,
    "execution": {
     "iopub.execute_input": "2021-04-19T11:15:58.024861Z",
     "iopub.status.busy": "2021-04-19T11:15:58.024054Z",
     "iopub.status.idle": "2021-04-19T11:15:58.029691Z",
     "shell.execute_reply": "2021-04-19T11:15:58.030370Z"
    },
    "nbgrader": {
     "cell_type": "code",
     "checksum": "842c5a6abdda72daab45752e4a18f84a",
     "grade": true,
     "grade_id": "cell-415891bde4cbde19",
     "locked": true,
     "points": 2,
     "schema_version": 3,
     "solution": false
    },
    "papermill": {
     "duration": 0.061499,
     "end_time": "2021-04-19T11:15:58.030562",
     "exception": false,
     "start_time": "2021-04-19T11:15:57.969063",
     "status": "completed"
    },
    "tags": []
   },
   "outputs": [
    {
     "output_type": "stream",
     "name": "stdout",
     "text": [
      "NearestMeanClassfier(more: (0.571, 37.143, 0.571), less: (0.333, 32.111, 0.222))\n"
     ]
    }
   ],
   "source": [
    "# Test build_and_train\n",
    "classifier = build_and_train(gettrain_num())\n",
    "print(classifier)\n",
    "t.assertIsInstance(classifier, NearestMeanClassifier)\n",
    "\n",
    "t.assertIsNotNone(classifier.more, 'Did you train the classifier? \\\n",
    "Did you store the mean vector for the \\'more\\' class?')\n",
    "t.assertIsNotNone(classifier.less, 'Did you train the classifier? \\\n",
    "Did you store the mean vector for the \\'less\\' class?')\n",
    "\n",
    "t.assertIsInstance(classifier.more, tuple)\n",
    "t.assertIsInstance(classifier.less, tuple)\n",
    "\n",
    "t.assertEqual(round(classifier.more[1]), 37)\n",
    "t.assertEqual(round(classifier.less[1]), 32)\n"
   ]
  },
  {
   "cell_type": "code",
   "execution_count": null,
   "id": "forty-dallas",
   "metadata": {
    "papermill": {
     "duration": 0.046169,
     "end_time": "2021-04-19T11:15:58.124408",
     "exception": false,
     "start_time": "2021-04-19T11:15:58.078239",
     "status": "completed"
    },
    "tags": []
   },
   "outputs": [],
   "source": []
  },
  {
   "cell_type": "code",
   "execution_count": 37,
   "id": "activated-coalition",
   "metadata": {
    "deletable": false,
    "editable": false,
    "execution": {
     "iopub.execute_input": "2021-04-19T11:15:58.221439Z",
     "iopub.status.busy": "2021-04-19T11:15:58.220813Z",
     "iopub.status.idle": "2021-04-19T11:15:58.225363Z",
     "shell.execute_reply": "2021-04-19T11:15:58.224828Z"
    },
    "nbgrader": {
     "cell_type": "code",
     "checksum": "537c8f2b10eeeb376715afb96f2a8e63",
     "grade": true,
     "grade_id": "cell-ca2d0921e96ede25",
     "locked": true,
     "points": 6,
     "schema_version": 3,
     "solution": false,
     "task": false
    },
    "papermill": {
     "duration": 0.054251,
     "end_time": "2021-04-19T11:15:58.225510",
     "exception": false,
     "start_time": "2021-04-19T11:15:58.171259",
     "status": "completed"
    },
    "tags": []
   },
   "outputs": [],
   "source": [
    "# This cell is for grading. Do NOT remove it"
   ]
  },
  {
   "cell_type": "markdown",
   "id": "loving-bibliography",
   "metadata": {
    "papermill": {
     "duration": 0.046144,
     "end_time": "2021-04-19T11:15:58.319814",
     "exception": false,
     "start_time": "2021-04-19T11:15:58.273670",
     "status": "completed"
    },
    "tags": []
   },
   "source": [
    "* Load the test dataset into memory as a list of numerical patient tuples\n",
    "* Predict the test data using the nearest mean classifier and return all test examples for which all three classifiers (decision tree, nearest neighbor and nearest mean) agree.\n",
    "\n",
    "**Note**: Be careful that the `NearestMeanClassifier` expects the dataset in a different form, compared to the other two methods."
   ]
  },
  {
   "cell_type": "code",
   "execution_count": 53,
   "id": "actual-monday",
   "metadata": {
    "deletable": false,
    "execution": {
     "iopub.execute_input": "2021-04-19T11:15:58.416690Z",
     "iopub.status.busy": "2021-04-19T11:15:58.416062Z",
     "iopub.status.idle": "2021-04-19T11:15:58.423598Z",
     "shell.execute_reply": "2021-04-19T11:15:58.424071Z"
    },
    "nbgrader": {
     "cell_type": "code",
     "checksum": "5b836cac61b3e71f09cd483af13bc04d",
     "grade": false,
     "grade_id": "cell-f37f3035a32a8f85",
     "locked": false,
     "schema_version": 3,
     "solution": true
    },
    "papermill": {
     "duration": 0.057218,
     "end_time": "2021-04-19T11:15:58.424247",
     "exception": false,
     "start_time": "2021-04-19T11:15:58.367029",
     "status": "completed"
    },
    "tags": []
   },
   "outputs": [],
   "source": [
    "def gettest_num() -> list:\n",
    "    '''\n",
    "    Parses the `health-test.txt` file into numerical patient tuples\n",
    "    \n",
    "    Returns: \n",
    "        list: A list containing numerical patient tuples, loaded from `health-test.txt`\n",
    "    '''\n",
    "    # YOUR CODE HERE\n",
    "    with open(health_test, 'r') as f:\n",
    "\n",
    "        patients_num = []\n",
    "\n",
    "        for line in f:\n",
    "            patient = line.splitlines()[0].split(',')\n",
    "            # Convert smoker, diet into floats\n",
    "            if patient[0] == 'yes':\n",
    "                patient[0] = 1.0\n",
    "            else: \n",
    "                patient[0] = 0.0\n",
    "\n",
    "            if patient[2] == 'poor':\n",
    "                patient[2] = 1.0\n",
    "            else:\n",
    "                patient[2] = 0.0\n",
    "            \n",
    "            patient[1] = float(patient[1])\n",
    "            \n",
    "            patients_num.append(tuple(patient))\n",
    "\n",
    "        return patients_num\n",
    "    # YOUR CODE HERE"
   ]
  },
  {
   "cell_type": "code",
   "execution_count": 54,
   "id": "disabled-dover",
   "metadata": {
    "deletable": false,
    "editable": false,
    "execution": {
     "iopub.execute_input": "2021-04-19T11:15:58.521307Z",
     "iopub.status.busy": "2021-04-19T11:15:58.520708Z",
     "iopub.status.idle": "2021-04-19T11:15:58.530361Z",
     "shell.execute_reply": "2021-04-19T11:15:58.529707Z"
    },
    "nbgrader": {
     "cell_type": "code",
     "checksum": "c340b09ad8ffbd109d302c8e4f6234a2",
     "grade": true,
     "grade_id": "cell-f3656461c994dc3d",
     "locked": true,
     "points": 2,
     "schema_version": 3,
     "solution": false,
     "task": false
    },
    "papermill": {
     "duration": 0.059159,
     "end_time": "2021-04-19T11:15:58.530533",
     "exception": false,
     "start_time": "2021-04-19T11:15:58.471374",
     "status": "completed"
    },
    "tags": []
   },
   "outputs": [
    {
     "output_type": "stream",
     "name": "stdout",
     "text": [
      "[(1.0, 21.0, 1.0),\n (0.0, 50.0, 0.0),\n (0.0, 23.0, 0.0),\n (1.0, 45.0, 1.0),\n (1.0, 51.0, 0.0),\n (0.0, 60.0, 0.0),\n (0.0, 15.0, 1.0),\n (0.0, 18.0, 0.0)]\n"
     ]
    }
   ],
   "source": [
    "testset_num = gettest_num()\n",
    "pprint(testset_num)\n",
    "t.assertIsInstance(testset_num, list)\n",
    "t.assertEqual(len(testset_num), 8)\n",
    "t.assertIsInstance(testset_num[0], tuple)\n",
    "t.assertEqual(len(testset_num[0]), 3)"
   ]
  },
  {
   "cell_type": "code",
   "execution_count": 55,
   "id": "overall-america",
   "metadata": {
    "deletable": false,
    "execution": {
     "iopub.execute_input": "2021-04-19T11:15:58.635148Z",
     "iopub.status.busy": "2021-04-19T11:15:58.634511Z",
     "iopub.status.idle": "2021-04-19T11:15:58.641411Z",
     "shell.execute_reply": "2021-04-19T11:15:58.641903Z"
    },
    "nbgrader": {
     "cell_type": "code",
     "checksum": "041450683d445b53eaccbf2506ed1426",
     "grade": false,
     "grade_id": "cell-008fcc0d21f07c3a",
     "locked": false,
     "schema_version": 3,
     "solution": true,
     "task": false
    },
    "papermill": {
     "duration": 0.060799,
     "end_time": "2021-04-19T11:15:58.642070",
     "exception": false,
     "start_time": "2021-04-19T11:15:58.581271",
     "status": "completed"
    },
    "tags": []
   },
   "outputs": [],
   "source": [
    "def predict_test() -> list:\n",
    "    '''\n",
    "    Classifies the test set using all the methods that were developed in this exercise sheet,\n",
    "    namely `decision`, `neighbor` and `NearestMeanClassifier`\n",
    "    \n",
    "    Returns:\n",
    "        list: a list of patient tuples containing all the datapoints that were classfied \n",
    "            the same by all methods, as well as the predicted labels\n",
    "            \n",
    "    Example:\n",
    "    >>> predict_test()\n",
    "    [(('yes', 22, 'poor'), 'less'),\n",
    "     (('yes', 21, 'poor'), 'less'),\n",
    "     (('no', 31, 'good'), 'more')]\n",
    "     \n",
    "    This example only shows how the output should look like. The values in the tuples \n",
    "    are completely made up\n",
    "    '''\n",
    "    # YOUR CODE HERE\n",
    "    \n",
    "    # Get all needed data\n",
    "    data_num = gettest_num()\n",
    "    data = gettest()\n",
    "    train = gettrain()\n",
    "    \n",
    "    # Initialize output array and train classifier\n",
    "    agreed_samples = []\n",
    "    classifier = build_and_train(gettrain_num())\n",
    "    \n",
    "    # Loop through observations\n",
    "    for i in range(len(data)):\n",
    "    \n",
    "        # Get decition tree label\n",
    "        tree = decision(data[i])\n",
    "\n",
    "        # Get nnc label\n",
    "        nnc = neighbor(data[i], train)\n",
    "        \n",
    "        # Get nmc label\n",
    "        nmc = classifier.predict(data_num[i])\n",
    "        \n",
    "        # If all predicitons are the same, append tuple of patient + prediction\n",
    "        if tree == nnc == nmc:\n",
    "            agreed_samples.append((data[i], tree))\n",
    "\n",
    "    return agreed_samples\n"
   ]
  },
  {
   "cell_type": "code",
   "execution_count": null,
   "id": "horizontal-electron",
   "metadata": {
    "papermill": {
     "duration": 0.052153,
     "end_time": "2021-04-19T11:15:58.744152",
     "exception": false,
     "start_time": "2021-04-19T11:15:58.691999",
     "status": "completed"
    },
    "tags": []
   },
   "outputs": [],
   "source": []
  },
  {
   "cell_type": "code",
   "execution_count": 56,
   "id": "computational-partner",
   "metadata": {
    "deletable": false,
    "editable": false,
    "execution": {
     "iopub.execute_input": "2021-04-19T11:15:58.848454Z",
     "iopub.status.busy": "2021-04-19T11:15:58.847732Z",
     "iopub.status.idle": "2021-04-19T11:15:58.859542Z",
     "shell.execute_reply": "2021-04-19T11:15:58.860032Z"
    },
    "nbgrader": {
     "cell_type": "code",
     "checksum": "c4f46b1aff55116de6f13a4605510038",
     "grade": true,
     "grade_id": "cell-853c957eaaf81c28",
     "locked": true,
     "points": 8,
     "schema_version": 3,
     "solution": false
    },
    "papermill": {
     "duration": 0.065379,
     "end_time": "2021-04-19T11:15:58.860215",
     "exception": false,
     "start_time": "2021-04-19T11:15:58.794836",
     "status": "completed"
    },
    "tags": []
   },
   "outputs": [
    {
     "output_type": "stream",
     "name": "stdout",
     "text": [
      "[(('no', 50, 'good'), 'less'),\n (('no', 23, 'good'), 'less'),\n (('yes', 45, 'poor'), 'more'),\n (('no', 60, 'good'), 'less'),\n (('no', 15, 'poor'), 'more'),\n (('no', 18, 'good'), 'less')]\n"
     ]
    }
   ],
   "source": [
    "same_predictions = predict_test()\n",
    "pprint(same_predictions)\n",
    "t.assertIsInstance(same_predictions, list)\n",
    "t.assertEqual(len(same_predictions), 6)\n",
    "t.assertIsInstance(same_predictions[0], tuple)\n",
    "t.assertIsInstance(same_predictions[0][0], tuple)\n",
    "t.assertIsInstance(same_predictions[0][0][0], str)\n",
    "t.assertIsInstance(same_predictions[0][1], str)"
   ]
  },
  {
   "cell_type": "code",
   "execution_count": null,
   "metadata": {},
   "outputs": [],
   "source": []
  }
 ],
 "metadata": {
  "kernelspec": {
   "name": "python383jvsc74a57bd0aee8b7b246df8f9039afb4144a1f6fd8d2ca17a180786b69acc140d282b71a49",
   "display_name": "Python 3.8.3 64-bit"
  },
  "language_info": {
   "codemirror_mode": {
    "name": "ipython",
    "version": 3
   },
   "file_extension": ".py",
   "mimetype": "text/x-python",
   "name": "python",
   "nbconvert_exporter": "python",
   "pygments_lexer": "ipython3",
   "version": "3.8.3"
  },
  "papermill": {
   "default_parameters": {},
   "duration": 12.118796,
   "end_time": "2021-04-19T11:15:59.517973",
   "environment_variables": {},
   "exception": null,
   "input_path": "__notebook__.ipynb",
   "output_path": "__notebook__.ipynb",
   "parameters": {},
   "start_time": "2021-04-19T11:15:47.399177",
   "version": "2.3.2"
  },
  "metadata": {
   "interpreter": {
    "hash": "aee8b7b246df8f9039afb4144a1f6fd8d2ca17a180786b69acc140d282b71a49"
   }
  }
 },
 "nbformat": 4,
 "nbformat_minor": 5
}